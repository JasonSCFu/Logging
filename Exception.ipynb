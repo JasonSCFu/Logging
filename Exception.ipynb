{
 "cells": [
  {
   "cell_type": "markdown",
   "metadata": {},
   "source": [
    "#### Exception"
   ]
  },
  {
   "cell_type": "code",
   "execution_count": 2,
   "metadata": {},
   "outputs": [],
   "source": [
    "#### define a custom exception class CustomError that inherits from the base Exception class.\n",
    "\n",
    "class CustomError(Exception):\n",
    "    \"\"\"Custom exception class.\"\"\"\n",
    "#### The __init__ method of the CustomError class allows us to customize the error message. \n",
    "#### By default, it sets the message to \"This is a custom error,\" but it can be overridden with a custom message.\n",
    "\n",
    "    def __init__(self, message=\"This is a custom error.\"):\n",
    "        self.message = message\n",
    "        super().__init__(self.message)\n"
   ]
  },
  {
   "cell_type": "code",
   "execution_count": 5,
   "metadata": {},
   "outputs": [
    {
     "name": "stdout",
     "output_type": "stream",
     "text": [
      "Custom error occurred: Input must be a non-negative number.\n"
     ]
    }
   ],
   "source": [
    "\n",
    "def example_function(x):\n",
    "    if x < 0:\n",
    "        raise CustomError(\"Input must be a non-negative number.\")\n",
    "\n",
    "try:\n",
    "    example_function(-5)  # This will raise CustomError\n",
    "except CustomError as e:\n",
    "    print(\"Custom error occurred:\", e.message)"
   ]
  },
  {
   "cell_type": "markdown",
   "metadata": {},
   "source": [
    "#### try exception block example"
   ]
  },
  {
   "cell_type": "code",
   "execution_count": 8,
   "metadata": {},
   "outputs": [
    {
     "name": "stdout",
     "output_type": "stream",
     "text": [
      "Error: Please enter a valid integer.\n",
      "End of program.\n"
     ]
    }
   ],
   "source": [
    "try:\n",
    "    # Code block where an exception might occur\n",
    "    x = int(input(\"Enter a number: \"))\n",
    "    result = 10 / x\n",
    "except ValueError:\n",
    "    # Code block to handle the ValueError exception (e.g., if the user enters a non-integer)\n",
    "    print(\"Error: Please enter a valid integer.\")\n",
    "except ZeroDivisionError:\n",
    "    # Code block to handle the ZeroDivisionError exception (e.g., if the user enters 0)\n",
    "    print(\"Error: Division by zero.\")\n",
    "else:\n",
    "    # Code block to execute if no exception occurs\n",
    "    print(\"Division result:\", result)\n",
    "finally:\n",
    "    # Code block that always executes, whether an exception occurred or not\n",
    "    print(\"End of program.\")"
   ]
  },
  {
   "cell_type": "code",
   "execution_count": null,
   "metadata": {},
   "outputs": [],
   "source": []
  }
 ],
 "metadata": {
  "kernelspec": {
   "display_name": "Python 3",
   "language": "python",
   "name": "python3"
  },
  "language_info": {
   "codemirror_mode": {
    "name": "ipython",
    "version": 3
   },
   "file_extension": ".py",
   "mimetype": "text/x-python",
   "name": "python",
   "nbconvert_exporter": "python",
   "pygments_lexer": "ipython3",
   "version": "3.9.13"
  }
 },
 "nbformat": 4,
 "nbformat_minor": 2
}
