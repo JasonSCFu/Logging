{
 "cells": [
  {
   "cell_type": "markdown",
   "metadata": {},
   "source": [
    "#### Coding conventions for Python\n",
    "\n",
    "Why we need that?\n",
    "\n",
    "* Improve readability for peer review\n",
    "* Improve maintainability and future enhancement\n",
    "* Less error prone\n",
    "* Easier to debug\n",
    "\n"
   ]
  },
  {
   "cell_type": "markdown",
   "metadata": {},
   "source": [
    "#### Whitespace in Expressions and Statements"
   ]
  },
  {
   "cell_type": "code",
   "execution_count": null,
   "metadata": {},
   "outputs": [],
   "source": [
    "#### Add one space around an assignment (or other) operator; dont add space before a comma, semicolon, or colon:\n",
    "\n",
    "# Correct:\n",
    "if x == 4: print(x, y); x, y = y, x\n",
    "\n",
    "# Wrong:\n",
    "if x == 4 : print(x , y) ; x , y = y , x\n"
   ]
  },
  {
   "cell_type": "code",
   "execution_count": null,
   "metadata": {},
   "outputs": [],
   "source": []
  },
  {
   "cell_type": "markdown",
   "metadata": {},
   "source": [
    "#### Should a Line Break Before or After a Binary Operator?"
   ]
  },
  {
   "cell_type": "code",
   "execution_count": null,
   "metadata": {},
   "outputs": [],
   "source": [
    "# Correct:\n",
    "# easy to match operators with operands\n",
    "income = (gross_wages\n",
    "          + taxable_interest\n",
    "          + (dividends - qualified_dividends)\n",
    "          - ira_deduction\n",
    "          - student_loan_interest)"
   ]
  },
  {
   "cell_type": "code",
   "execution_count": null,
   "metadata": {},
   "outputs": [],
   "source": [
    "# Wrong:\n",
    "# operators sit far away from their operands\n",
    "income = (gross_wages +\n",
    "          taxable_interest +\n",
    "          (dividends - qualified_dividends) -\n",
    "          ira_deduction -\n",
    "          student_loan_interest)"
   ]
  },
  {
   "cell_type": "markdown",
   "metadata": {},
   "source": [
    "#### Import\n",
    "\n",
    "Imports are always put at the top of the file, just after any module comments and docstrings, and before module globals and constants.\n",
    "Imports should be grouped in the following order:\n",
    "\n",
    "+ Standard library imports.\n",
    "+ Related third party imports.\n",
    "+ Local application/library specific imports."
   ]
  },
  {
   "cell_type": "markdown",
   "metadata": {},
   "source": [
    "#### Comments\n",
    "\n",
    "+ Comments that contradict the code are worse than no comments. Always make a priority of keeping the comments up-to-date when the code changes!\n",
    "\n",
    "+ Comments should be complete sentences. The first word should be capitalized, unless it is an identifier that begins with a lower case letter (never alter the case of identifiers!)."
   ]
  },
  {
   "cell_type": "code",
   "execution_count": 3,
   "metadata": {},
   "outputs": [],
   "source": [
    "\"\"\"\n",
    "This is a block comment.\n",
    "It spans multiple lines.\n",
    "Use triple quotes to start and end the comment.\n",
    "\"\"\"\n",
    "\n",
    "# This is not a block comment, it's a single-line comment\n",
    "\n"
   ]
  },
  {
   "cell_type": "markdown",
   "metadata": {},
   "source": [
    "#### Doc Strings"
   ]
  },
  {
   "cell_type": "code",
   "execution_count": 9,
   "metadata": {},
   "outputs": [],
   "source": [
    "def greet(name):\n",
    "    \"\"\"\n",
    "    This function greets the person with the given name.\n",
    "\n",
    "    Parameters:\n",
    "    name (str): The name of the person to greet.\n",
    "\n",
    "    Returns:\n",
    "    str: A greeting message.\n",
    "\n",
    "    Example:\n",
    "    >>> greet('Alice')\n",
    "    'Hello, Alice!'\n",
    "    \"\"\"\n",
    "    return f'Hello, {name}!'\n"
   ]
  },
  {
   "cell_type": "code",
   "execution_count": 10,
   "metadata": {},
   "outputs": [
    {
     "name": "stdout",
     "output_type": "stream",
     "text": [
      "\n",
      "    This function greets the person with the given name.\n",
      "\n",
      "    Parameters:\n",
      "    name (str): The name of the person to greet.\n",
      "\n",
      "    Returns:\n",
      "    str: A greeting message.\n",
      "\n",
      "    Example:\n",
      "    >>> greet('Alice')\n",
      "    'Hello, Alice!'\n",
      "    \n"
     ]
    }
   ],
   "source": [
    "print(greet.__doc__)\n"
   ]
  },
  {
   "cell_type": "markdown",
   "metadata": {},
   "source": [
    "#### Programming Recommendations\n",
    "\n",
    "Use is not operator rather than not ... is. While both expressions are functionally identical, the former is more readable and preferred:"
   ]
  },
  {
   "cell_type": "code",
   "execution_count": null,
   "metadata": {},
   "outputs": [],
   "source": [
    "# Correct:\n",
    "if foo is not None:"
   ]
  },
  {
   "cell_type": "code",
   "execution_count": null,
   "metadata": {},
   "outputs": [],
   "source": [
    "# Wrong:\n",
    "if not foo is None:"
   ]
  },
  {
   "cell_type": "markdown",
   "metadata": {},
   "source": [
    "Be consistent in return statements. Either all return statements in a function should return an expression, or none of them should. If any return statement returns an expression, any return statements where no value is returned should explicitly state this as return None, and an explicit return statement should be present at the end of the function (if reachable):"
   ]
  },
  {
   "cell_type": "markdown",
   "metadata": {},
   "source": []
  },
  {
   "cell_type": "code",
   "execution_count": 4,
   "metadata": {},
   "outputs": [],
   "source": [
    "# Correct:\n",
    "\n",
    "def foo(x):\n",
    "    if x >= 0:\n",
    "        return math.sqrt(x)\n",
    "    else:\n",
    "        return None\n",
    "\n",
    "def bar(x):\n",
    "    if x < 0:\n",
    "        return None\n",
    "    return math.sqrt(x)"
   ]
  },
  {
   "cell_type": "code",
   "execution_count": null,
   "metadata": {},
   "outputs": [],
   "source": [
    "# Wrong:\n",
    "\n",
    "def foo(x):\n",
    "    if x >= 0:\n",
    "        return math.sqrt(x)\n",
    "\n",
    "def bar(x):\n",
    "    if x < 0:\n",
    "        return\n",
    "    return math.sqrt(x)"
   ]
  },
  {
   "cell_type": "markdown",
   "metadata": {},
   "source": [
    "Use ''.startswith() and ''.endswith() instead of string slicing to check for prefixes or suffixes.\n",
    "startswith() and endswith() are cleaner and less error prone:"
   ]
  },
  {
   "cell_type": "markdown",
   "metadata": {},
   "source": [
    "# Correct:\n",
    "if foo.startswith('bar'):"
   ]
  },
  {
   "cell_type": "code",
   "execution_count": null,
   "metadata": {},
   "outputs": [],
   "source": [
    "# Wrong:\n",
    "if foo[:3] == 'bar':"
   ]
  },
  {
   "cell_type": "markdown",
   "metadata": {},
   "source": [
    "For sequences, (strings, lists, tuples), use the fact that empty sequences are false:"
   ]
  },
  {
   "cell_type": "code",
   "execution_count": null,
   "metadata": {},
   "outputs": [],
   "source": [
    "# Correct:\n",
    "if not seq:\n",
    "if seq:"
   ]
  },
  {
   "cell_type": "code",
   "execution_count": null,
   "metadata": {},
   "outputs": [],
   "source": [
    "# Wrong:\n",
    "if len(seq):\n",
    "if not len(seq):"
   ]
  },
  {
   "cell_type": "markdown",
   "metadata": {},
   "source": [
    "Don’t compare boolean values to True or False using ==:"
   ]
  },
  {
   "cell_type": "markdown",
   "metadata": {},
   "source": [
    "# Correct:\n",
    "if greeting:"
   ]
  },
  {
   "cell_type": "code",
   "execution_count": null,
   "metadata": {},
   "outputs": [],
   "source": [
    "# Wrong:\n",
    "if greeting == True:\n",
    "\n",
    "if greeting is True:"
   ]
  },
  {
   "cell_type": "markdown",
   "metadata": {},
   "source": [
    "#### Logging\n",
    "\n",
    "With the logging module imported, you can use something called a “logger” to log messages that you want to see. By default, there are 5 standard levels indicating the severity of events. Each has a corresponding function that can be used to log events at that level of severity. The defined levels, in order of increasing severity, are the following:\n",
    "\n",
    "+ DEBUG\n",
    "+ INFO\n",
    "+ WARNING\n",
    "+ ERROR\n",
    "+ CRITICAL"
   ]
  },
  {
   "cell_type": "code",
   "execution_count": 6,
   "metadata": {},
   "outputs": [
    {
     "name": "stderr",
     "output_type": "stream",
     "text": [
      "INFO: Starting program\n",
      "ERROR: Error occurred: division by zero\n",
      "WARNING: Division by zero occurred\n",
      "INFO: Program finished\n"
     ]
    }
   ],
   "source": [
    "import logging\n",
    "\n",
    "# Configure logging\n",
    "logging.basicConfig(level=logging.INFO, format='%(levelname)s: %(message)s')\n",
    "\n",
    "# Example function\n",
    "def divide(x, y):\n",
    "    try:\n",
    "        result = x / y\n",
    "        return result\n",
    "    except ZeroDivisionError as e:\n",
    "        logging.error(\"Error occurred: %s\", e)\n",
    "        return None\n",
    "\n",
    "# Usage\n",
    "logging.info(\"Starting program\")\n",
    "x = 10\n",
    "y = 0\n",
    "result = divide(x, y)\n",
    "if result is None:\n",
    "    logging.warning(\"Division by zero occurred\")\n",
    "logging.info(\"Program finished\")\n"
   ]
  },
  {
   "cell_type": "markdown",
   "metadata": {},
   "source": [
    "#### Exception"
   ]
  },
  {
   "cell_type": "code",
   "execution_count": 7,
   "metadata": {},
   "outputs": [
    {
     "name": "stdout",
     "output_type": "stream",
     "text": [
      "Custom error occurred: Input must be a non-negative number.\n"
     ]
    }
   ],
   "source": [
    "#### define a custom exception class CustomError that inherits from the base Exception class.\n",
    "\n",
    "class CustomError(Exception):\n",
    "    \"\"\"Custom exception class.\"\"\"\n",
    "#### The __init__ method of the CustomError class allows us to customize the error message. \n",
    "#### By default, it sets the message to \"This is a custom error,\" but it can be overridden with a custom message.\n",
    "\n",
    "    def __init__(self, message=\"This is a custom error.\"):\n",
    "        self.message = message\n",
    "        super().__init__(self.message)\n",
    "\n",
    "\n",
    "def example_function(x):\n",
    "    if x < 0:\n",
    "        raise CustomError(\"Input must be a non-negative number.\")\n",
    "\n",
    "try:\n",
    "    example_function(-5)  # This will raise CustomError\n",
    "except CustomError as e:\n",
    "    print(\"Custom error occurred:\", e.message)\n",
    "\n",
    "    "
   ]
  },
  {
   "cell_type": "code",
   "execution_count": 8,
   "metadata": {},
   "outputs": [
    {
     "name": "stdout",
     "output_type": "stream",
     "text": [
      "Division result: 0.9090909090909091\n",
      "End of program.\n"
     ]
    }
   ],
   "source": [
    "try:\n",
    "    # Code block where an exception might occur\n",
    "    x = int(input(\"Enter a number: \"))\n",
    "    result = 10 / x\n",
    "except ValueError:\n",
    "    # Code block to handle the ValueError exception (e.g., if the user enters a non-integer)\n",
    "    print(\"Error: Please enter a valid integer.\")\n",
    "except ZeroDivisionError:\n",
    "    # Code block to handle the ZeroDivisionError exception (e.g., if the user enters 0)\n",
    "    print(\"Error: Division by zero.\")\n",
    "else:\n",
    "    # Code block to execute if no exception occurs\n",
    "    print(\"Division result:\", result)\n",
    "finally:\n",
    "    # Code block that always executes, whether an exception occurred or not\n",
    "    print(\"End of program.\")"
   ]
  },
  {
   "cell_type": "code",
   "execution_count": null,
   "metadata": {},
   "outputs": [],
   "source": []
  }
 ],
 "metadata": {
  "kernelspec": {
   "display_name": "Python 3",
   "language": "python",
   "name": "python3"
  },
  "language_info": {
   "codemirror_mode": {
    "name": "ipython",
    "version": 3
   },
   "file_extension": ".py",
   "mimetype": "text/x-python",
   "name": "python",
   "nbconvert_exporter": "python",
   "pygments_lexer": "ipython3",
   "version": "3.9.13"
  }
 },
 "nbformat": 4,
 "nbformat_minor": 2
}
